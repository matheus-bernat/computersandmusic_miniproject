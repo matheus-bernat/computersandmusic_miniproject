{
 "cells": [
  {
   "cell_type": "markdown",
   "metadata": {},
   "source": [
    "# Miniproject\n",
    "Create a personalized sound level meter that takes into account the loudness sensitivity of your own ears.\n",
    "1. program that generates a test tone and that allows you to interactively change the volume of the test tone;\n",
    "2. perform a series of listening tests with your program to determine your typical ear sensitivity curve;\n",
    "3. use the values in the curve to design a simple **weighting filter**;\n",
    "4. use the weighting filter to compute the perceptual loudness of an audio file."
   ]
  },
  {
   "cell_type": "markdown",
   "metadata": {},
   "source": [
    "#### A little of theory\n",
    "The Sound Pressure Level (SPL) $L_p$ is defined as function of smallest sound pressure detected by human ear: $p_0=20 \\cdot 10^{-6}$. $L_p=20\\cdot\\log_{10}\\frac{p}{p_0}.$\n",
    "\n",
    "$p$ is determined as the root-mean-square (RMS) of a sequence of $n$ measurements of the sound pressure: $p=\\sqrt{\\frac{1}{n}(x_1^2+x_2^2+...+x_n^2)}$.\n",
    "\n",
    "A common unit of subjective loudness is the phon; an increase of 10 units on the phon scale corresponds to doubling the perceived loudness of the sound."
   ]
  },
  {
   "cell_type": "markdown",
   "metadata": {},
   "source": [
    "### 1. Psychoacoustic Experiment"
   ]
  },
  {
   "cell_type": "markdown",
   "metadata": {},
   "source": [
    "A program with a simple interface that allows the user to play either the reference tone at 1 kHz or the test tone at another random frequency in the 20 Hz to 15 kHz range; the user interface needs to provide a way to adjust the volume of the test tone and to store the volume value once the user finalizes their selection.\n",
    "\n",
    "40 phon equal-loudness curve"
   ]
  },
  {
   "cell_type": "code",
   "execution_count": 122,
   "metadata": {},
   "outputs": [],
   "source": [
    "import numpy as np\n",
    "import matplotlib\n",
    "import matplotlib.pyplot as plt\n",
    "import pickle\n",
    "import sounddevice as sd\n",
    "import ipywidgets as widgets\n",
    "from IPython.display import Audio, display\n",
    "from __future__ import print_function\n",
    "from ipywidgets import interact, interactive, fixed, interact_manual\n",
    "from IPython.display import clear_output\n",
    "\n",
    "figsize=(10,5)\n",
    "linewidth=2.5\n",
    "matplotlib.rcParams.update({'font.size': 16})\n",
    "\n",
    "# Constants\n",
    "fs = 44100\n",
    "time = np.linspace(0, 2, 2*fs)\n",
    "samples = np.arange(2*fs)\n",
    "fourier = np.linspace(0, .2*np.pi, 2*fs)\n",
    "\n",
    "def sine(A, f, phi, n):\n",
    "    return A * np.sin(2*np.pi*f*n - phi)\n",
    "def play_tone(volume, frequency):\n",
    "    assert(volume >= 0 and volume <= 100)\n",
    "    tone = sine(A=volume/100, f=frequency, phi=0, n=time)\n",
    "    sd.play(tone, fs)\n",
    "def f(x):\n",
    "    return x"
   ]
  },
  {
   "cell_type": "code",
   "execution_count": 87,
   "metadata": {},
   "outputs": [
    {
     "data": {
      "text/plain": [
       "[60,\n",
       " 84,\n",
       " 120,\n",
       " 169,\n",
       " 240,\n",
       " 339,\n",
       " 480,\n",
       " 678,\n",
       " 960,\n",
       " 1357,\n",
       " 1920,\n",
       " 2715,\n",
       " 3840,\n",
       " 5430,\n",
       " 7680,\n",
       " 10861]"
      ]
     },
     "execution_count": 87,
     "metadata": {},
     "output_type": "execute_result"
    }
   ],
   "source": [
    "# Pre-define frequencies that the user will define loudness for\n",
    "N = 16\n",
    "nr_values_per_octave = 2\n",
    "test_frequencies = np.empty((N,))\n",
    "for i in range(N):\n",
    "    test_frequencies[i] = 60 * np.power(2, i/nr_values_per_octave)\n",
    "test_frequencies = [int(el) for el in test_frequencies]\n",
    "test_frequencies"
   ]
  },
  {
   "cell_type": "code",
   "execution_count": 89,
   "metadata": {},
   "outputs": [
    {
     "data": {
      "application/vnd.jupyter.widget-view+json": {
       "model_id": "05a3d54a31df46fb9639653ea7cd34cf",
       "version_major": 2,
       "version_minor": 0
      },
      "text/plain": [
       "Button(description='Play reference', style=ButtonStyle())"
      ]
     },
     "metadata": {},
     "output_type": "display_data"
    },
    {
     "data": {
      "application/vnd.jupyter.widget-view+json": {
       "model_id": "bd737869c7bb436389611f22d48655c8",
       "version_major": 2,
       "version_minor": 0
      },
      "text/plain": [
       "Output()"
      ]
     },
     "metadata": {},
     "output_type": "display_data"
    }
   ],
   "source": [
    "# Reference tune play-button\n",
    "button = widgets.Button(description=\"Play reference\")\n",
    "output = widgets.Output()\n",
    "display(button, output)\n",
    "\n",
    "ref_frequency = 1_000\n",
    "ref_volume = 50\n",
    "\n",
    "def on_ref_button_clicked(b):\n",
    "    with output:\n",
    "        play_tone(volume=ref_volume, frequency=ref_frequency)\n",
    "button.on_click(on_ref_button_clicked)"
   ]
  },
  {
   "cell_type": "code",
   "execution_count": 116,
   "metadata": {},
   "outputs": [
    {
     "name": "stdout",
     "output_type": "stream",
     "text": [
      "Select the frequency for which to choose the volume\n"
     ]
    },
    {
     "data": {
      "application/vnd.jupyter.widget-view+json": {
       "model_id": "cda838c5b59c4290a8150658abcb95fa",
       "version_major": 2,
       "version_minor": 0
      },
      "text/plain": [
       "interactive(children=(Dropdown(description='x', options=(60, 84, 120, 169, 240, 339, 480, 678, 960, 1357, 1920…"
      ]
     },
     "metadata": {},
     "output_type": "display_data"
    },
    {
     "data": {
      "application/vnd.jupyter.widget-view+json": {
       "model_id": "66b187ff19d947d4869882b5d26e4ea9",
       "version_major": 2,
       "version_minor": 0
      },
      "text/plain": [
       "Button(description='Play test', style=ButtonStyle())"
      ]
     },
     "metadata": {},
     "output_type": "display_data"
    },
    {
     "data": {
      "application/vnd.jupyter.widget-view+json": {
       "model_id": "46b23b26288e4332b41071c847b481cd",
       "version_major": 2,
       "version_minor": 0
      },
      "text/plain": [
       "Output()"
      ]
     },
     "metadata": {},
     "output_type": "display_data"
    },
    {
     "data": {
      "application/vnd.jupyter.widget-view+json": {
       "model_id": "78ae331f09f64d719f659a93274bca1d",
       "version_major": 2,
       "version_minor": 0
      },
      "text/plain": [
       "interactive(children=(IntSlider(value=30, description='x'), Output()), _dom_classes=('widget-interact',))"
      ]
     },
     "metadata": {},
     "output_type": "display_data"
    }
   ],
   "source": [
    "# Initialize dictionary that will hold volumes\n",
    "equal_loudness_curve = dict.fromkeys(test_frequencies, None)\n",
    "\n",
    "# List of frequencies\n",
    "print(f'Select the frequency for which to choose the volume')\n",
    "chosen_frequency = interactive(f, x=test_frequencies)\n",
    "display(chosen_frequency)\n",
    "\n",
    "# Test tune play-button\n",
    "button = widgets.Button(description=\"Play test\")\n",
    "output = widgets.Output()\n",
    "display(button, output)\n",
    "def on_test_button_clicked(b):\n",
    "    with output:\n",
    "        play_tone(volume=volume.result, frequency=chosen_frequency.result)\n",
    "        equal_loudness_curve[chosen_frequency.result] = volume.result\n",
    "        clear_output(wait=False)\n",
    "        print(equal_loudness_curve)\n",
    "        \n",
    "button.on_click(on_test_button_clicked)\n",
    "\n",
    "# Test tune volume\n",
    "volume = interactive(f, x=widgets.IntSlider(min=0, max=100, step=1, value=30))\n",
    "display(volume)"
   ]
  },
  {
   "cell_type": "code",
   "execution_count": 125,
   "metadata": {},
   "outputs": [
    {
     "data": {
      "application/vnd.jupyter.widget-view+json": {
       "model_id": "9571e9706c6a4ef8a8649051447f9f15",
       "version_major": 2,
       "version_minor": 0
      },
      "text/plain": [
       "Button(description='Save volume', style=ButtonStyle())"
      ]
     },
     "metadata": {},
     "output_type": "display_data"
    },
    {
     "data": {
      "application/vnd.jupyter.widget-view+json": {
       "model_id": "4fff76dc47f64b1ebd5bb4dde752a0c6",
       "version_major": 2,
       "version_minor": 0
      },
      "text/plain": [
       "Output()"
      ]
     },
     "metadata": {},
     "output_type": "display_data"
    }
   ],
   "source": [
    "# Save button - save dictionary to json file\n",
    "button = widgets.Button(description=\"Save volume\")\n",
    "output = widgets.Output()\n",
    "display(button, output)\n",
    "def on_save_button_clicked(b):\n",
    "    with output:\n",
    "        if sum([volume == None for volume in equal_loudness_curve]):\n",
    "            clear_output(wait=False)\n",
    "            print('You forget to set the volume of a frequency.')\n",
    "        else:\n",
    "            clear_output(wait=False)\n",
    "            with open('equal_loudness_curve_MATHEUS.json', 'wb') as fp:\n",
    "                pickle.dump(equal_loudness_curve, fp)\n",
    "            print('Saved to equal_loudness_curve.json.')\n",
    "button.on_click(on_save_button_clicked)"
   ]
  }
 ],
 "metadata": {
  "interpreter": {
   "hash": "0050bdc898b9a679c387244c11e8057e7ae4f22360b32a2e55d1f190f6800284"
  },
  "kernelspec": {
   "display_name": "Python 3",
   "language": "python",
   "name": "python3"
  },
  "language_info": {
   "codemirror_mode": {
    "name": "ipython",
    "version": 3
   },
   "file_extension": ".py",
   "mimetype": "text/x-python",
   "name": "python",
   "nbconvert_exporter": "python",
   "pygments_lexer": "ipython3",
   "version": "3.9.2"
  }
 },
 "nbformat": 4,
 "nbformat_minor": 4
}
