{
 "cells": [
  {
   "cell_type": "markdown",
   "metadata": {},
   "source": [
    "# Miniproject\n",
    "Create a personalized sound level meter that takes into account the loudness sensitivity of your own ears.\n",
    "1. program that generates a test tone and that allows you to interactively change the volume of the test tone;\n",
    "2. perform a series of listening tests with your program to determine your typical ear sensitivity curve;\n",
    "3. use the values in the curve to design a simple **weighting filter**;\n",
    "4. use the weighting filter to compute the perceptual loudness of an audio file."
   ]
  },
  {
   "cell_type": "markdown",
   "metadata": {},
   "source": [
    "#### A little of theory\n",
    "The Sound Pressure Level (SPL) $L_p$ is defined as function of smallest sound pressure detected by human ear: $p_0=20 \\cdot 10^{-6}$. $L_p=20\\cdot\\log_{10}\\frac{p}{p_0}.$\n",
    "\n",
    "$p$ is determined as the root-mean-square (RMS) of a sequence of $n$ measurements of the sound pressure: $p=\\sqrt{\\frac{1}{n}(x_1^2+x_2^2+...+x_n^2)}$.\n",
    "\n",
    "A common unit of subjective loudness is the phon; an increase of 10 units on the phon scale corresponds to doubling the perceived loudness of the sound."
   ]
  },
  {
   "cell_type": "markdown",
   "metadata": {},
   "source": [
    "## 1. Psychoacoustic Experiment"
   ]
  },
  {
   "cell_type": "markdown",
   "metadata": {},
   "source": [
    "A program with a simple interface that allows the user to play either the reference tone at 1 kHz or the test tone at another random frequency in the 20 Hz to 15 kHz range; the user interface needs to provide a way to adjust the volume of the test tone and to store the volume value once the user finalizes their selection.\n",
    "\n",
    "40 phon equal-loudness curve"
   ]
  },
  {
   "cell_type": "code",
   "execution_count": 155,
   "metadata": {},
   "outputs": [],
   "source": [
    "import numpy as np\n",
    "import matplotlib\n",
    "import matplotlib.pyplot as plt\n",
    "import json\n",
    "import sounddevice as sd\n",
    "import ipywidgets as widgets\n",
    "from IPython.display import Audio, display\n",
    "from __future__ import print_function\n",
    "from ipywidgets import interact, interactive, fixed, interact_manual\n",
    "from IPython.display import clear_output\n",
    "\n",
    "figsize=(10,5)\n",
    "linewidth=2.5\n",
    "matplotlib.rcParams.update({'font.size': 16})\n",
    "\n",
    "# Constants\n",
    "fs = 44100\n",
    "time = np.linspace(0, 2, 2*fs)\n",
    "samples = np.arange(2*fs)\n",
    "fourier = np.linspace(0, .2*np.pi, 2*fs)\n",
    "\n",
    "def sine(A, f, phi, n):\n",
    "    return A * np.sin(2*np.pi*f*n - phi)\n",
    "def play_tone(volume, frequency):\n",
    "    assert(volume >= 0 and volume <= 100)\n",
    "    tone = sine(A=volume/100, f=frequency, phi=0, n=time)\n",
    "    sd.play(tone, fs)\n",
    "def f(x):\n",
    "    return x"
   ]
  },
  {
   "cell_type": "code",
   "execution_count": 128,
   "metadata": {},
   "outputs": [
    {
     "data": {
      "text/plain": [
       "[60,\n",
       " 84,\n",
       " 120,\n",
       " 169,\n",
       " 240,\n",
       " 339,\n",
       " 480,\n",
       " 678,\n",
       " 960,\n",
       " 1357,\n",
       " 1920,\n",
       " 2715,\n",
       " 3840,\n",
       " 5430,\n",
       " 7680,\n",
       " 10861]"
      ]
     },
     "execution_count": 128,
     "metadata": {},
     "output_type": "execute_result"
    }
   ],
   "source": [
    "# Pre-define frequencies that the user will define loudness for\n",
    "N = 16\n",
    "nr_values_per_octave = 2\n",
    "test_frequencies = np.empty((N,))\n",
    "for i in range(N):\n",
    "    test_frequencies[i] = 60 * np.power(2, i/nr_values_per_octave)\n",
    "test_frequencies = [int(el) for el in test_frequencies]\n",
    "test_frequencies"
   ]
  },
  {
   "cell_type": "code",
   "execution_count": 130,
   "metadata": {},
   "outputs": [
    {
     "data": {
      "application/vnd.jupyter.widget-view+json": {
       "model_id": "a59266661b2442569ec5621852376a0e",
       "version_major": 2,
       "version_minor": 0
      },
      "text/plain": [
       "Button(description='Play reference', style=ButtonStyle())"
      ]
     },
     "metadata": {},
     "output_type": "display_data"
    },
    {
     "data": {
      "application/vnd.jupyter.widget-view+json": {
       "model_id": "83f1c30678e44c1f85cdb27cce339d8e",
       "version_major": 2,
       "version_minor": 0
      },
      "text/plain": [
       "Output()"
      ]
     },
     "metadata": {},
     "output_type": "display_data"
    }
   ],
   "source": [
    "# Reference tune play-button\n",
    "button = widgets.Button(description=\"Play reference\")\n",
    "output = widgets.Output()\n",
    "display(button, output)\n",
    "\n",
    "# Put the computer volume at 50\n",
    "ref_frequency = 1_000\n",
    "ref_volume = 50\n",
    "\n",
    "def on_ref_button_clicked(b):\n",
    "    with output:\n",
    "        play_tone(volume=ref_volume, frequency=ref_frequency)\n",
    "button.on_click(on_ref_button_clicked)"
   ]
  },
  {
   "cell_type": "code",
   "execution_count": 131,
   "metadata": {},
   "outputs": [
    {
     "name": "stdout",
     "output_type": "stream",
     "text": [
      "Select the frequency for which to choose the volume\n"
     ]
    },
    {
     "data": {
      "application/vnd.jupyter.widget-view+json": {
       "model_id": "057ddb772c1245b891d218da65788724",
       "version_major": 2,
       "version_minor": 0
      },
      "text/plain": [
       "interactive(children=(Dropdown(description='x', options=(60, 84, 120, 169, 240, 339, 480, 678, 960, 1357, 1920…"
      ]
     },
     "metadata": {},
     "output_type": "display_data"
    },
    {
     "data": {
      "application/vnd.jupyter.widget-view+json": {
       "model_id": "7a1d9d2d10684deeacc9dcee917f79b9",
       "version_major": 2,
       "version_minor": 0
      },
      "text/plain": [
       "Button(description='Play test', style=ButtonStyle())"
      ]
     },
     "metadata": {},
     "output_type": "display_data"
    },
    {
     "data": {
      "application/vnd.jupyter.widget-view+json": {
       "model_id": "904163a93f6d4d698a0fe3d7fc9738d0",
       "version_major": 2,
       "version_minor": 0
      },
      "text/plain": [
       "Output()"
      ]
     },
     "metadata": {},
     "output_type": "display_data"
    },
    {
     "data": {
      "application/vnd.jupyter.widget-view+json": {
       "model_id": "948ba5f44d3a4f55b0d06ff25465286e",
       "version_major": 2,
       "version_minor": 0
      },
      "text/plain": [
       "interactive(children=(IntSlider(value=30, description='x'), Output()), _dom_classes=('widget-interact',))"
      ]
     },
     "metadata": {},
     "output_type": "display_data"
    }
   ],
   "source": [
    "# Initialize dictionary that will hold volumes\n",
    "equal_loudness_curve = dict.fromkeys(test_frequencies, None)\n",
    "\n",
    "# List of frequencies\n",
    "print(f'Select the frequency for which to choose the volume')\n",
    "chosen_frequency = interactive(f, x=test_frequencies)\n",
    "display(chosen_frequency)\n",
    "\n",
    "# Test tune play-button\n",
    "button = widgets.Button(description=\"Play test\")\n",
    "output = widgets.Output()\n",
    "display(button, output)\n",
    "def on_test_button_clicked(b):\n",
    "    with output:\n",
    "        play_tone(volume=volume.result, frequency=chosen_frequency.result)\n",
    "        equal_loudness_curve[chosen_frequency.result] = volume.result\n",
    "        clear_output(wait=False)\n",
    "        print(equal_loudness_curve)\n",
    "        \n",
    "button.on_click(on_test_button_clicked)\n",
    "\n",
    "# Test tune volume\n",
    "volume = interactive(f, x=widgets.IntSlider(min=0, max=100, step=1, value=30))\n",
    "display(volume)"
   ]
  },
  {
   "cell_type": "code",
   "execution_count": 158,
   "metadata": {},
   "outputs": [
    {
     "data": {
      "application/vnd.jupyter.widget-view+json": {
       "model_id": "f8784dec79ee497eb59f2ee24beb19c1",
       "version_major": 2,
       "version_minor": 0
      },
      "text/plain": [
       "Button(description='Save volume', style=ButtonStyle())"
      ]
     },
     "metadata": {},
     "output_type": "display_data"
    },
    {
     "data": {
      "application/vnd.jupyter.widget-view+json": {
       "model_id": "7b6621e406b14b94a33683afe0abcc0e",
       "version_major": 2,
       "version_minor": 0
      },
      "text/plain": [
       "Output()"
      ]
     },
     "metadata": {},
     "output_type": "display_data"
    }
   ],
   "source": [
    "# Save button - save dictionary to json file\n",
    "\n",
    "########\n",
    "your_name = 'MATHEUS' #'MATHEUS' # 'HUSSAM', 'THOMAS'\n",
    "########\n",
    "\n",
    "button = widgets.Button(description=\"Save volume\")\n",
    "output = widgets.Output()\n",
    "display(button, output)\n",
    "def on_save_button_clicked(b):\n",
    "    with output:\n",
    "        if sum([volume == None for volume in equal_loudness_curve]):\n",
    "            clear_output(wait=False)\n",
    "            print('You forget to set the volume of a frequency.')\n",
    "        else:\n",
    "            clear_output(wait=False)\n",
    "            with open(f'equal_loudness_curve_{your_name}.json', 'w') as fp:\n",
    "                json.dump(equal_loudness_curve, fp)\n",
    "            print(f'Saved to equal_loudness_curve_{your_name}.json.')\n",
    "button.on_click(on_save_button_clicked)"
   ]
  },
  {
   "cell_type": "code",
   "execution_count": 149,
   "metadata": {},
   "outputs": [
    {
     "data": {
      "image/png": "[encoded data removed]",
      "text/plain": [
       "<Figure size 432x288 with 1 Axes>"
      ]
     },
     "metadata": {
      "needs_background": "light"
     },
     "output_type": "display_data"
    }
   ],
   "source": [
    "plt.plot(list(equal_loudness_curve.keys()),list(equal_loudness_curve.values())) \n",
    "plt.xlabel('Frequency [Hz]')\n",
    "plt.ylabel('Volume [%]')\n",
    "plt.xscale('log')"
   ]
  },
  {
   "cell_type": "markdown",
   "metadata": {},
   "source": [
    "## 2. Weighting filter\n",
    "At this point your equal-loudness contour data will be a set of frequency-volume pairs $(f_n, v_n)_n$. In order to obtain a weighting filter, you need to design a digital filter that approximates the inverse of the contour. The simplest way is to design an FIR whose magnitude response interpolates the points $(f_n , \\frac{1}{v_n})_n$. To achieve this, you can for instance look at the documentation for the routines [scipy.signal.firwin2](https://docs.scipy.org/doc/scipy/reference/generated/scipy.signal.firwin2.html) and [scipy.signal.firls](https://docs.scipy.org/doc/scipy/reference/generated/scipy.signal.firls.html) in SciPy."
   ]
  },
  {
   "cell_type": "code",
   "execution_count": 211,
   "metadata": {},
   "outputs": [
    {
     "data": {
      "text/plain": [
       "array([-1.28603967e-04, -1.36894744e-05, -1.79036809e-03,  9.27530407e-05,\n",
       "       -1.47406267e-02,  5.25727329e-02, -1.47406267e-02,  9.27530407e-05,\n",
       "       -1.79036809e-03, -1.36894744e-05, -1.28603967e-04])"
      ]
     },
     "execution_count": 211,
     "metadata": {},
     "output_type": "execute_result"
    }
   ],
   "source": [
    "from scipy.signal import firwin2, freqz \n",
    "\n",
    "with open('equal_loudness_curve_MATHEUS.json') as fb:\n",
    "    curve = json.load(fb)\n",
    "frequencies = np.array(['0'] + list(curve.keys()), dtype=np.float32) # add a 0 in the beginning as it is required by firwin2 that frequency start with 0 (and end with fs)\n",
    "gains = 1 / np.array(list(curve.values()))\n",
    "gains = np.insert(gains, 0, 0)\n",
    "fs = frequencies[-1] * 2\n",
    "fir_coefficients = scipy.signal.firwin2(numtaps=11, freq=frequencies, gain=gains, fs=fs)\n",
    "fir_coefficients"
   ]
  },
  {
   "cell_type": "markdown",
   "metadata": {},
   "source": [
    "Now, plot the frequency response given the coefficients of the FIR filter. Here is a website I got inspiration from: https://scipy-cookbook.readthedocs.io/items/FIRFilter.html."
   ]
  },
  {
   "cell_type": "code",
   "execution_count": 215,
   "metadata": {},
   "outputs": [
    {
     "data": {
      "image/png": "[encoded data removed]",
      "text/plain": [
       "<Figure size 432x288 with 1 Axes>"
      ]
     },
     "metadata": {
      "needs_background": "light"
     },
     "output_type": "display_data"
    }
   ],
   "source": [
    "plt.plot(fir_coefficients, 'bo-', linewidth=2)\n",
    "plt.title('Filter Coefficients')\n",
    "plt.grid(True)"
   ]
  },
  {
   "cell_type": "code",
   "execution_count": 219,
   "metadata": {},
   "outputs": [
    {
     "data": {
      "image/png": "[encoded data removed]",
      "text/plain": [
       "<Figure size 432x288 with 1 Axes>"
      ]
     },
     "metadata": {
      "needs_background": "light"
     },
     "output_type": "display_data"
    }
   ],
   "source": [
    "w, h = freqz(fir_coefficients)\n",
    "plt.plot((w/np.pi) * fs/2, np.absolute(h), linewidth=2)\n",
    "plt.xlabel('Frequency (Hz)')\n",
    "plt.ylabel('Gain')\n",
    "plt.title('Frequency Response')\n",
    "plt.ylim(-0.05, 1.05)\n",
    "plt.grid(True)\n",
    "# plt.xscale('log')"
   ]
  },
  {
   "cell_type": "markdown",
   "metadata": {},
   "source": [
    "## 3. Sound meter\n",
    "Finally, implement a sound meter that pre-processes the input via the weighting filter and then computes\n",
    "the time-varying RMS via an averaging filter with user-definable range (either a moving average or a leaky\n",
    "integrator). Compare the results obtained with pre-filtering to those without.\n"
   ]
  },
  {
   "cell_type": "code",
   "execution_count": 216,
   "metadata": {},
   "outputs": [],
   "source": [
    "# Pre-filter audio file with weighting filter\n",
    "# TODO"
   ]
  },
  {
   "cell_type": "code",
   "execution_count": null,
   "metadata": {},
   "outputs": [],
   "source": [
    "# Compute RMS of an audio-file via an averaging filter\n",
    "# TODO"
   ]
  },
  {
   "cell_type": "code",
   "execution_count": null,
   "metadata": {},
   "outputs": [],
   "source": []
  }
 ],
 "metadata": {
  "interpreter": {
   "hash": "0050bdc898b9a679c387244c11e8057e7ae4f22360b32a2e55d1f190f6800284"
  },
  "kernelspec": {
   "display_name": "Python 3",
   "language": "python",
   "name": "python3"
  },
  "language_info": {
   "codemirror_mode": {
    "name": "ipython",
    "version": 3
   },
   "file_extension": ".py",
   "mimetype": "text/x-python",
   "name": "python",
   "nbconvert_exporter": "python",
   "pygments_lexer": "ipython3",
   "version": "3.9.2"
  }
 },
 "nbformat": 4,
 "nbformat_minor": 4
}
